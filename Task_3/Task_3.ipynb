{
 "cells": [
  {
   "cell_type": "markdown",
   "id": "ebb75c9f-da58-459a-bbae-414abc3e592c",
   "metadata": {},
   "source": [
    "## CHAVAN ADVAIT GURUNATH \n",
    "## advaitchavan135@gmail.com\n",
    "## Task 3: Credit risk analysis"
   ]
  },
  {
   "cell_type": "markdown",
   "id": "5356fee9-e49c-4202-9e61-83fae18f994f",
   "metadata": {},
   "source": [
    "### The risk manager has collected data on the loan borrowers. The data is in tabular format, with each row providing details of the borrower, including their income, total loans outstanding, and a few other metrics. There is also a column indicating if the borrower has previously defaulted on a loan. You must use this data to build a model that, given details for any loan described above, will predict the probability that the borrower will default (also known as PD: the probability of default). Use the provided data to train a function that will estimate the probability of default for a borrower. Assuming a recovery rate of 10%, this can be used to give the expected loss on a loan.\n",
    "\n",
    "### You should produce a function that can take in the properties of a loan and output the expected loss.\n",
    "### You can explore any technique ranging from a simple regression or a decision tree to something more advanced. You can also use multiple methods and provide a comparative analysis."
   ]
  },
  {
   "cell_type": "code",
   "execution_count": 7,
   "id": "7cabab30-b631-4723-95c8-0d35218e307e",
   "metadata": {},
   "outputs": [],
   "source": [
    "import pandas as pd\n",
    "import numpy as np"
   ]
  },
  {
   "cell_type": "code",
   "execution_count": 8,
   "id": "c6d4e6e6-e1e9-45d9-8eac-33116b4ea576",
   "metadata": {},
   "outputs": [],
   "source": [
    "from sklearn.model_selection       import train_test_split\n",
    "from sklearn.pipeline              import Pipeline\n",
    "from sklearn.compose               import ColumnTransformer\n",
    "from sklearn.preprocessing         import StandardScaler, OneHotEncoder\n",
    "from sklearn.linear_model          import LogisticRegression\n",
    "from sklearn.tree                  import DecisionTreeClassifier\n",
    "from sklearn.ensemble              import RandomForestClassifier\n",
    "from sklearn.calibration           import CalibratedClassifierCV\n",
    "from sklearn.metrics               import roc_auc_score, brier_score_loss"
   ]
  },
  {
   "cell_type": "code",
   "execution_count": 2,
   "id": "7f45ab34-2997-4b61-962b-d957e902ca02",
   "metadata": {},
   "outputs": [],
   "source": [
    "df = pd.read_csv('Loan_data.csv')"
   ]
  },
  {
   "cell_type": "code",
   "execution_count": 3,
   "id": "545e69b7-8b4c-47f6-80dc-dd283ff4ac52",
   "metadata": {},
   "outputs": [
    {
     "data": {
      "text/html": [
       "<div>\n",
       "<style scoped>\n",
       "    .dataframe tbody tr th:only-of-type {\n",
       "        vertical-align: middle;\n",
       "    }\n",
       "\n",
       "    .dataframe tbody tr th {\n",
       "        vertical-align: top;\n",
       "    }\n",
       "\n",
       "    .dataframe thead th {\n",
       "        text-align: right;\n",
       "    }\n",
       "</style>\n",
       "<table border=\"1\" class=\"dataframe\">\n",
       "  <thead>\n",
       "    <tr style=\"text-align: right;\">\n",
       "      <th></th>\n",
       "      <th>customer_id</th>\n",
       "      <th>credit_lines_outstanding</th>\n",
       "      <th>loan_amt_outstanding</th>\n",
       "      <th>total_debt_outstanding</th>\n",
       "      <th>income</th>\n",
       "      <th>years_employed</th>\n",
       "      <th>fico_score</th>\n",
       "      <th>default</th>\n",
       "    </tr>\n",
       "  </thead>\n",
       "  <tbody>\n",
       "    <tr>\n",
       "      <th>0</th>\n",
       "      <td>8153374</td>\n",
       "      <td>0</td>\n",
       "      <td>5221.545193</td>\n",
       "      <td>3915.471226</td>\n",
       "      <td>78039.38546</td>\n",
       "      <td>5</td>\n",
       "      <td>605</td>\n",
       "      <td>0</td>\n",
       "    </tr>\n",
       "    <tr>\n",
       "      <th>1</th>\n",
       "      <td>7442532</td>\n",
       "      <td>5</td>\n",
       "      <td>1958.928726</td>\n",
       "      <td>8228.752520</td>\n",
       "      <td>26648.43525</td>\n",
       "      <td>2</td>\n",
       "      <td>572</td>\n",
       "      <td>1</td>\n",
       "    </tr>\n",
       "    <tr>\n",
       "      <th>2</th>\n",
       "      <td>2256073</td>\n",
       "      <td>0</td>\n",
       "      <td>3363.009259</td>\n",
       "      <td>2027.830850</td>\n",
       "      <td>65866.71246</td>\n",
       "      <td>4</td>\n",
       "      <td>602</td>\n",
       "      <td>0</td>\n",
       "    </tr>\n",
       "    <tr>\n",
       "      <th>3</th>\n",
       "      <td>4885975</td>\n",
       "      <td>0</td>\n",
       "      <td>4766.648001</td>\n",
       "      <td>2501.730397</td>\n",
       "      <td>74356.88347</td>\n",
       "      <td>5</td>\n",
       "      <td>612</td>\n",
       "      <td>0</td>\n",
       "    </tr>\n",
       "    <tr>\n",
       "      <th>4</th>\n",
       "      <td>4700614</td>\n",
       "      <td>1</td>\n",
       "      <td>1345.827718</td>\n",
       "      <td>1768.826187</td>\n",
       "      <td>23448.32631</td>\n",
       "      <td>6</td>\n",
       "      <td>631</td>\n",
       "      <td>0</td>\n",
       "    </tr>\n",
       "  </tbody>\n",
       "</table>\n",
       "</div>"
      ],
      "text/plain": [
       "   customer_id  credit_lines_outstanding  loan_amt_outstanding  \\\n",
       "0      8153374                         0           5221.545193   \n",
       "1      7442532                         5           1958.928726   \n",
       "2      2256073                         0           3363.009259   \n",
       "3      4885975                         0           4766.648001   \n",
       "4      4700614                         1           1345.827718   \n",
       "\n",
       "   total_debt_outstanding       income  years_employed  fico_score  default  \n",
       "0             3915.471226  78039.38546               5         605        0  \n",
       "1             8228.752520  26648.43525               2         572        1  \n",
       "2             2027.830850  65866.71246               4         602        0  \n",
       "3             2501.730397  74356.88347               5         612        0  \n",
       "4             1768.826187  23448.32631               6         631        0  "
      ]
     },
     "execution_count": 3,
     "metadata": {},
     "output_type": "execute_result"
    }
   ],
   "source": [
    "df.head()"
   ]
  },
  {
   "cell_type": "code",
   "execution_count": 4,
   "id": "a9a2a80e-f614-44d3-9426-74d305ee5d83",
   "metadata": {},
   "outputs": [
    {
     "name": "stdout",
     "output_type": "stream",
     "text": [
      "<class 'pandas.core.frame.DataFrame'>\n",
      "RangeIndex: 10000 entries, 0 to 9999\n",
      "Data columns (total 8 columns):\n",
      " #   Column                    Non-Null Count  Dtype  \n",
      "---  ------                    --------------  -----  \n",
      " 0   customer_id               10000 non-null  int64  \n",
      " 1   credit_lines_outstanding  10000 non-null  int64  \n",
      " 2   loan_amt_outstanding      10000 non-null  float64\n",
      " 3   total_debt_outstanding    10000 non-null  float64\n",
      " 4   income                    10000 non-null  float64\n",
      " 5   years_employed            10000 non-null  int64  \n",
      " 6   fico_score                10000 non-null  int64  \n",
      " 7   default                   10000 non-null  int64  \n",
      "dtypes: float64(3), int64(5)\n",
      "memory usage: 625.1 KB\n"
     ]
    }
   ],
   "source": [
    "df.info()"
   ]
  },
  {
   "cell_type": "code",
   "execution_count": 5,
   "id": "a56f8d13-4457-4879-bc78-950a75f351f6",
   "metadata": {},
   "outputs": [
    {
     "data": {
      "text/html": [
       "<div>\n",
       "<style scoped>\n",
       "    .dataframe tbody tr th:only-of-type {\n",
       "        vertical-align: middle;\n",
       "    }\n",
       "\n",
       "    .dataframe tbody tr th {\n",
       "        vertical-align: top;\n",
       "    }\n",
       "\n",
       "    .dataframe thead th {\n",
       "        text-align: right;\n",
       "    }\n",
       "</style>\n",
       "<table border=\"1\" class=\"dataframe\">\n",
       "  <thead>\n",
       "    <tr style=\"text-align: right;\">\n",
       "      <th></th>\n",
       "      <th>customer_id</th>\n",
       "      <th>credit_lines_outstanding</th>\n",
       "      <th>loan_amt_outstanding</th>\n",
       "      <th>total_debt_outstanding</th>\n",
       "      <th>income</th>\n",
       "      <th>years_employed</th>\n",
       "      <th>fico_score</th>\n",
       "      <th>default</th>\n",
       "    </tr>\n",
       "  </thead>\n",
       "  <tbody>\n",
       "    <tr>\n",
       "      <th>count</th>\n",
       "      <td>1.000000e+04</td>\n",
       "      <td>10000.000000</td>\n",
       "      <td>10000.000000</td>\n",
       "      <td>10000.000000</td>\n",
       "      <td>10000.000000</td>\n",
       "      <td>10000.000000</td>\n",
       "      <td>10000.000000</td>\n",
       "      <td>10000.000000</td>\n",
       "    </tr>\n",
       "    <tr>\n",
       "      <th>mean</th>\n",
       "      <td>4.974577e+06</td>\n",
       "      <td>1.461200</td>\n",
       "      <td>4159.677034</td>\n",
       "      <td>8718.916797</td>\n",
       "      <td>70039.901401</td>\n",
       "      <td>4.552800</td>\n",
       "      <td>637.557700</td>\n",
       "      <td>0.185100</td>\n",
       "    </tr>\n",
       "    <tr>\n",
       "      <th>std</th>\n",
       "      <td>2.293890e+06</td>\n",
       "      <td>1.743846</td>\n",
       "      <td>1421.399078</td>\n",
       "      <td>6627.164762</td>\n",
       "      <td>20072.214143</td>\n",
       "      <td>1.566862</td>\n",
       "      <td>60.657906</td>\n",
       "      <td>0.388398</td>\n",
       "    </tr>\n",
       "    <tr>\n",
       "      <th>min</th>\n",
       "      <td>1.000324e+06</td>\n",
       "      <td>0.000000</td>\n",
       "      <td>46.783973</td>\n",
       "      <td>31.652732</td>\n",
       "      <td>1000.000000</td>\n",
       "      <td>0.000000</td>\n",
       "      <td>408.000000</td>\n",
       "      <td>0.000000</td>\n",
       "    </tr>\n",
       "    <tr>\n",
       "      <th>25%</th>\n",
       "      <td>2.977661e+06</td>\n",
       "      <td>0.000000</td>\n",
       "      <td>3154.235371</td>\n",
       "      <td>4199.836020</td>\n",
       "      <td>56539.867903</td>\n",
       "      <td>3.000000</td>\n",
       "      <td>597.000000</td>\n",
       "      <td>0.000000</td>\n",
       "    </tr>\n",
       "    <tr>\n",
       "      <th>50%</th>\n",
       "      <td>4.989502e+06</td>\n",
       "      <td>1.000000</td>\n",
       "      <td>4052.377228</td>\n",
       "      <td>6732.407217</td>\n",
       "      <td>70085.826330</td>\n",
       "      <td>5.000000</td>\n",
       "      <td>638.000000</td>\n",
       "      <td>0.000000</td>\n",
       "    </tr>\n",
       "    <tr>\n",
       "      <th>75%</th>\n",
       "      <td>6.967210e+06</td>\n",
       "      <td>2.000000</td>\n",
       "      <td>5052.898103</td>\n",
       "      <td>11272.263740</td>\n",
       "      <td>83429.166133</td>\n",
       "      <td>6.000000</td>\n",
       "      <td>679.000000</td>\n",
       "      <td>0.000000</td>\n",
       "    </tr>\n",
       "    <tr>\n",
       "      <th>max</th>\n",
       "      <td>8.999789e+06</td>\n",
       "      <td>5.000000</td>\n",
       "      <td>10750.677810</td>\n",
       "      <td>43688.784100</td>\n",
       "      <td>148412.180500</td>\n",
       "      <td>10.000000</td>\n",
       "      <td>850.000000</td>\n",
       "      <td>1.000000</td>\n",
       "    </tr>\n",
       "  </tbody>\n",
       "</table>\n",
       "</div>"
      ],
      "text/plain": [
       "        customer_id  credit_lines_outstanding  loan_amt_outstanding  \\\n",
       "count  1.000000e+04              10000.000000          10000.000000   \n",
       "mean   4.974577e+06                  1.461200           4159.677034   \n",
       "std    2.293890e+06                  1.743846           1421.399078   \n",
       "min    1.000324e+06                  0.000000             46.783973   \n",
       "25%    2.977661e+06                  0.000000           3154.235371   \n",
       "50%    4.989502e+06                  1.000000           4052.377228   \n",
       "75%    6.967210e+06                  2.000000           5052.898103   \n",
       "max    8.999789e+06                  5.000000          10750.677810   \n",
       "\n",
       "       total_debt_outstanding         income  years_employed    fico_score  \\\n",
       "count            10000.000000   10000.000000    10000.000000  10000.000000   \n",
       "mean              8718.916797   70039.901401        4.552800    637.557700   \n",
       "std               6627.164762   20072.214143        1.566862     60.657906   \n",
       "min                 31.652732    1000.000000        0.000000    408.000000   \n",
       "25%               4199.836020   56539.867903        3.000000    597.000000   \n",
       "50%               6732.407217   70085.826330        5.000000    638.000000   \n",
       "75%              11272.263740   83429.166133        6.000000    679.000000   \n",
       "max              43688.784100  148412.180500       10.000000    850.000000   \n",
       "\n",
       "            default  \n",
       "count  10000.000000  \n",
       "mean       0.185100  \n",
       "std        0.388398  \n",
       "min        0.000000  \n",
       "25%        0.000000  \n",
       "50%        0.000000  \n",
       "75%        0.000000  \n",
       "max        1.000000  "
      ]
     },
     "execution_count": 5,
     "metadata": {},
     "output_type": "execute_result"
    }
   ],
   "source": [
    "df.describe()"
   ]
  },
  {
   "cell_type": "markdown",
   "id": "4a183915-05d3-4a4e-a6a5-f524a8ebde4d",
   "metadata": {},
   "source": [
    "## Create ratio and risk‐band features:"
   ]
  },
  {
   "cell_type": "code",
   "execution_count": 9,
   "id": "7cc2a70d-6c08-4eeb-a138-7e36412ba0f4",
   "metadata": {},
   "outputs": [],
   "source": [
    "df[\"loan_to_income\"]  = df[\"loan_amt_outstanding\"] / df[\"income\"]\n",
    "df[\"debt_to_credit\"]  = df[\"total_debt_outstanding\"] / df[\"credit_lines_outstanding\"]\n",
    "df[\"fico_band\"] = pd.cut(\n",
    "    df[\"fico_score\"],\n",
    "    bins=[300, 580, 670, 740, 800, 850],\n",
    "    labels=[\"Poor\",\"Fair\",\"Good\",\"VeryGood\",\"Exceptional\"]\n",
    ")"
   ]
  },
  {
   "cell_type": "code",
   "execution_count": 10,
   "id": "6d9d5892-062d-4313-8924-2ce68fbdf1d3",
   "metadata": {},
   "outputs": [
    {
     "data": {
      "text/html": [
       "<div>\n",
       "<style scoped>\n",
       "    .dataframe tbody tr th:only-of-type {\n",
       "        vertical-align: middle;\n",
       "    }\n",
       "\n",
       "    .dataframe tbody tr th {\n",
       "        vertical-align: top;\n",
       "    }\n",
       "\n",
       "    .dataframe thead th {\n",
       "        text-align: right;\n",
       "    }\n",
       "</style>\n",
       "<table border=\"1\" class=\"dataframe\">\n",
       "  <thead>\n",
       "    <tr style=\"text-align: right;\">\n",
       "      <th></th>\n",
       "      <th>customer_id</th>\n",
       "      <th>credit_lines_outstanding</th>\n",
       "      <th>loan_amt_outstanding</th>\n",
       "      <th>total_debt_outstanding</th>\n",
       "      <th>income</th>\n",
       "      <th>years_employed</th>\n",
       "      <th>fico_score</th>\n",
       "      <th>default</th>\n",
       "      <th>loan_to_income</th>\n",
       "      <th>debt_to_credit</th>\n",
       "      <th>fico_band</th>\n",
       "    </tr>\n",
       "  </thead>\n",
       "  <tbody>\n",
       "    <tr>\n",
       "      <th>0</th>\n",
       "      <td>8153374</td>\n",
       "      <td>0</td>\n",
       "      <td>5221.545193</td>\n",
       "      <td>3915.471226</td>\n",
       "      <td>78039.38546</td>\n",
       "      <td>5</td>\n",
       "      <td>605</td>\n",
       "      <td>0</td>\n",
       "      <td>0.066909</td>\n",
       "      <td>inf</td>\n",
       "      <td>Fair</td>\n",
       "    </tr>\n",
       "    <tr>\n",
       "      <th>1</th>\n",
       "      <td>7442532</td>\n",
       "      <td>5</td>\n",
       "      <td>1958.928726</td>\n",
       "      <td>8228.752520</td>\n",
       "      <td>26648.43525</td>\n",
       "      <td>2</td>\n",
       "      <td>572</td>\n",
       "      <td>1</td>\n",
       "      <td>0.073510</td>\n",
       "      <td>1645.750504</td>\n",
       "      <td>Poor</td>\n",
       "    </tr>\n",
       "    <tr>\n",
       "      <th>2</th>\n",
       "      <td>2256073</td>\n",
       "      <td>0</td>\n",
       "      <td>3363.009259</td>\n",
       "      <td>2027.830850</td>\n",
       "      <td>65866.71246</td>\n",
       "      <td>4</td>\n",
       "      <td>602</td>\n",
       "      <td>0</td>\n",
       "      <td>0.051058</td>\n",
       "      <td>inf</td>\n",
       "      <td>Fair</td>\n",
       "    </tr>\n",
       "    <tr>\n",
       "      <th>3</th>\n",
       "      <td>4885975</td>\n",
       "      <td>0</td>\n",
       "      <td>4766.648001</td>\n",
       "      <td>2501.730397</td>\n",
       "      <td>74356.88347</td>\n",
       "      <td>5</td>\n",
       "      <td>612</td>\n",
       "      <td>0</td>\n",
       "      <td>0.064105</td>\n",
       "      <td>inf</td>\n",
       "      <td>Fair</td>\n",
       "    </tr>\n",
       "    <tr>\n",
       "      <th>4</th>\n",
       "      <td>4700614</td>\n",
       "      <td>1</td>\n",
       "      <td>1345.827718</td>\n",
       "      <td>1768.826187</td>\n",
       "      <td>23448.32631</td>\n",
       "      <td>6</td>\n",
       "      <td>631</td>\n",
       "      <td>0</td>\n",
       "      <td>0.057395</td>\n",
       "      <td>1768.826187</td>\n",
       "      <td>Fair</td>\n",
       "    </tr>\n",
       "  </tbody>\n",
       "</table>\n",
       "</div>"
      ],
      "text/plain": [
       "   customer_id  credit_lines_outstanding  loan_amt_outstanding  \\\n",
       "0      8153374                         0           5221.545193   \n",
       "1      7442532                         5           1958.928726   \n",
       "2      2256073                         0           3363.009259   \n",
       "3      4885975                         0           4766.648001   \n",
       "4      4700614                         1           1345.827718   \n",
       "\n",
       "   total_debt_outstanding       income  years_employed  fico_score  default  \\\n",
       "0             3915.471226  78039.38546               5         605        0   \n",
       "1             8228.752520  26648.43525               2         572        1   \n",
       "2             2027.830850  65866.71246               4         602        0   \n",
       "3             2501.730397  74356.88347               5         612        0   \n",
       "4             1768.826187  23448.32631               6         631        0   \n",
       "\n",
       "   loan_to_income  debt_to_credit fico_band  \n",
       "0        0.066909             inf      Fair  \n",
       "1        0.073510     1645.750504      Poor  \n",
       "2        0.051058             inf      Fair  \n",
       "3        0.064105             inf      Fair  \n",
       "4        0.057395     1768.826187      Fair  "
      ]
     },
     "execution_count": 10,
     "metadata": {},
     "output_type": "execute_result"
    }
   ],
   "source": [
    "df.head()"
   ]
  },
  {
   "cell_type": "markdown",
   "id": "35319efb-80cf-401e-86eb-82b45a87f951",
   "metadata": {},
   "source": [
    "## Prepare X, y and Train/Test Split"
   ]
  },
  {
   "cell_type": "code",
   "execution_count": 19,
   "id": "65657a9a-0543-4bd7-8603-27906d8e327d",
   "metadata": {},
   "outputs": [],
   "source": [
    "TARGET = \"default\"\n",
    "X = df.drop(columns=[TARGET])\n",
    "y = df[TARGET]"
   ]
  },
  {
   "cell_type": "code",
   "execution_count": 20,
   "id": "fc7ed765-5230-4871-a4b7-0b6455b7de91",
   "metadata": {},
   "outputs": [],
   "source": [
    "X_train, X_test, y_train, y_test = train_test_split(\n",
    "    X, y, test_size=0.2, stratify=y, random_state=42\n",
    ")"
   ]
  },
  {
   "cell_type": "code",
   "execution_count": 24,
   "id": "2ce943d5-6d58-45e5-9a49-a32c2f83a35d",
   "metadata": {},
   "outputs": [],
   "source": [
    "from sklearn.impute import SimpleImputer\n",
    "\n",
    "X_train = X_train.replace([np.inf, -np.inf], np.nan)\n",
    "X_test  = X_test.replace([np.inf, -np.inf], np.nan)\n",
    "\n",
    "\n",
    "imputer = SimpleImputer(strategy=\"median\")\n",
    "X_train[numeric_features] = imputer.fit_transform(\n",
    "    X_train[numeric_features]\n",
    ")\n",
    "X_test[numeric_features]  = imputer.transform(\n",
    "    X_test[numeric_features]\n",
    ")\n"
   ]
  },
  {
   "cell_type": "markdown",
   "id": "20caf7fc-fbb9-4894-bdae-9478a1f49b28",
   "metadata": {},
   "source": [
    "## Preprocessing Pipeline"
   ]
  },
  {
   "cell_type": "code",
   "execution_count": 25,
   "id": "d0063aab-e07f-4e88-a084-45d17238ff2b",
   "metadata": {},
   "outputs": [],
   "source": [
    "numeric_features      = [\n",
    "    \"fico_score\",\n",
    "    \"credit_lines_outstanding\",\n",
    "    \"loan_amt_outstanding\",\n",
    "    \"total_debt_outstanding\",\n",
    "    \"income\",\n",
    "    \"years_employed\",\n",
    "    \"loan_to_income\",\n",
    "    \"debt_to_credit\"\n",
    "]\n",
    "categorical_features  = [\"fico_band\"]\n",
    "\n",
    "preprocessor = ColumnTransformer([\n",
    "    (\"num\", StandardScaler(), numeric_features),\n",
    "    (\"cat\", OneHotEncoder(drop=\"first\"), categorical_features),\n",
    "])"
   ]
  },
  {
   "cell_type": "markdown",
   "id": "ed70d3e2-6218-48e5-ba46-63248278f739",
   "metadata": {},
   "source": [
    "## Define and Train Models"
   ]
  },
  {
   "cell_type": "code",
   "execution_count": 26,
   "id": "04281edd-19db-4847-bc53-f51c1408c7e0",
   "metadata": {},
   "outputs": [],
   "source": [
    "models = {\n",
    "    \"LogisticRegression\": Pipeline([\n",
    "        (\"prep\", preprocessor),\n",
    "        (\"clf\", LogisticRegression(solver=\"liblinear\"))\n",
    "    ]),\n",
    "    \"DecisionTree\": Pipeline([\n",
    "        (\"prep\", preprocessor),\n",
    "        (\"clf\", DecisionTreeClassifier(max_depth=5, random_state=42))\n",
    "    ]),\n",
    "    \"RandomForest\": Pipeline([\n",
    "        (\"prep\", preprocessor),\n",
    "        (\"clf\", CalibratedClassifierCV(\n",
    "            estimator=RandomForestClassifier(\n",
    "                n_estimators=100, random_state=42),\n",
    "            method=\"isotonic\", cv=5))\n",
    "    ]),\n",
    "}"
   ]
  },
  {
   "cell_type": "code",
   "execution_count": 27,
   "id": "57617471-c2df-4d2b-8263-99a2d228f78d",
   "metadata": {},
   "outputs": [],
   "source": [
    "results = []\n",
    "for name, pipe in models.items():\n",
    "    pipe.fit(X_train, y_train)\n",
    "    probs = pipe.predict_proba(X_test)[:, 1]\n",
    "    results.append({\n",
    "        \"model\": name,\n",
    "        \"AUC\": roc_auc_score(y_test, probs),\n",
    "        \"Brier\": brier_score_loss(y_test, probs)\n",
    "    })"
   ]
  },
  {
   "cell_type": "code",
   "execution_count": 28,
   "id": "3a73d376-2f76-4059-b361-b2f3c3f1eed1",
   "metadata": {},
   "outputs": [
    {
     "name": "stdout",
     "output_type": "stream",
     "text": [
      "                model       AUC     Brier\n",
      "0  LogisticRegression  0.999990  0.003895\n",
      "2        RandomForest  0.999826  0.003671\n",
      "1        DecisionTree  0.999087  0.004071\n"
     ]
    }
   ],
   "source": [
    "results_df = pd.DataFrame(results).sort_values(\"AUC\", ascending=False)\n",
    "print(results_df)"
   ]
  },
  {
   "cell_type": "markdown",
   "id": "05cf8638-1431-4f36-ba55-cded1be564aa",
   "metadata": {},
   "source": [
    "## Select Best Model"
   ]
  },
  {
   "cell_type": "code",
   "execution_count": 29,
   "id": "b0086f7e-b503-49f8-b976-b661459fcab8",
   "metadata": {},
   "outputs": [
    {
     "name": "stdout",
     "output_type": "stream",
     "text": [
      "\n",
      "Selected model: LogisticRegression\n"
     ]
    }
   ],
   "source": [
    "best_model_name = results_df.iloc[0][\"model\"]\n",
    "best_model = models[best_model_name]\n",
    "print(f\"\\nSelected model: {best_model_name}\")"
   ]
  },
  {
   "cell_type": "markdown",
   "id": "97303eb5-168e-437e-af45-b73914e916ce",
   "metadata": {},
   "source": [
    "### Creating a function"
   ]
  },
  {
   "cell_type": "code",
   "execution_count": 30,
   "id": "1f5c4d09-161a-4150-8eea-fb6b01f26031",
   "metadata": {},
   "outputs": [],
   "source": [
    "RECOVERY_RATE = 0.10\n",
    "\n",
    "def expected_loss(credit_lines_outstanding: int,\n",
    "                  loan_amt_outstanding: float,\n",
    "                  total_debt_outstanding: float,\n",
    "                  income: float,\n",
    "                  years_employed: int,\n",
    "                  fico_score: int) -> float:\n",
    "    row = pd.DataFrame([{\n",
    "        \"credit_lines_outstanding\": credit_lines_outstanding,\n",
    "        \"loan_amt_outstanding\": loan_amt_outstanding,\n",
    "        \"total_debt_outstanding\": total_debt_outstanding,\n",
    "        \"income\": income,\n",
    "        \"years_employed\": years_employed,\n",
    "        \"fico_score\": fico_score\n",
    "    }])\n",
    "    row[\"loan_to_income\"] = row[\"loan_amt_outstanding\"] / row[\"income\"]\n",
    "    row[\"debt_to_credit\"] = row[\"total_debt_outstanding\"] / row[\"credit_lines_outstanding\"]\n",
    "    row[\"fico_band\"]      = pd.cut(\n",
    "        row[\"fico_score\"],\n",
    "        bins=[300, 580, 670, 740, 800, 850],\n",
    "        labels=[\"Poor\",\"Fair\",\"Good\",\"VeryGood\",\"Exceptional\"]\n",
    "    )\n",
    "    pd_prob  = best_model.predict_proba(row)[:, 1][0]\n",
    "    exposure = loan_amt_outstanding  # define EAD as outstanding loan amount\n",
    "    exp_loss = pd_prob * exposure * (1 - RECOVERY_RATE)\n",
    "    return exp_loss"
   ]
  },
  {
   "cell_type": "code",
   "execution_count": 31,
   "id": "95975ac4-300d-475f-bf02-992a381d505a",
   "metadata": {},
   "outputs": [
    {
     "name": "stdout",
     "output_type": "stream",
     "text": [
      "\n",
      "Expected Loss = 1350.00\n"
     ]
    }
   ],
   "source": [
    "loss_example = expected_loss(\n",
    "    credit_lines_outstanding=10,\n",
    "    loan_amt_outstanding=1500,\n",
    "    total_debt_outstanding=3200,\n",
    "    income=55000,\n",
    "    years_employed=4,\n",
    "    fico_score=710\n",
    ")\n",
    "print(f\"\\nExpected Loss = {loss_example:.2f}\")"
   ]
  },
  {
   "cell_type": "code",
   "execution_count": null,
   "id": "51ebb304-90f8-413f-8d6c-193aa47e8280",
   "metadata": {},
   "outputs": [],
   "source": []
  }
 ],
 "metadata": {
  "kernelspec": {
   "display_name": "Python 3 (ipykernel)",
   "language": "python",
   "name": "python3"
  },
  "language_info": {
   "codemirror_mode": {
    "name": "ipython",
    "version": 3
   },
   "file_extension": ".py",
   "mimetype": "text/x-python",
   "name": "python",
   "nbconvert_exporter": "python",
   "pygments_lexer": "ipython3",
   "version": "3.12.9"
  }
 },
 "nbformat": 4,
 "nbformat_minor": 5
}
