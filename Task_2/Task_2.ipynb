{
 "cells": [
  {
   "cell_type": "markdown",
   "id": "99c938d1-7267-44dc-a016-67976c26e56f",
   "metadata": {},
   "source": [
    "# Name -- ADVAIT GURUNATH CHAVAN\n",
    "# Email -- advaitchavan135@gmail.com"
   ]
  },
  {
   "cell_type": "markdown",
   "id": "419e2ab3-8ea9-48d8-b989-6e4881ff897a",
   "metadata": {},
   "source": [
    "## Task -- 2"
   ]
  },
  {
   "cell_type": "markdown",
   "id": "bdd090d3-bf29-4321-ae40-91a86a9615d5",
   "metadata": {},
   "source": [
    "### You need to create a prototype pricing model that can go through further validation and testing before being put into production. Eventually, this model may be the basis for fully automated quoting to clients, but for now, the desk will use it with manual oversight to explore options with the client. \n",
    "\n",
    "### You should write a function that is able to use the data you created previously to price the contract. The client may want to choose multiple dates to inject and withdraw a set amount of gas, so your approach should generalize the explanation from before. Consider all the cash flows involved in the product.\n",
    "\n",
    "### The input parameters that should be taken into account for pricing are:\n",
    "\n",
    "#### Injection dates. \n",
    "#### Withdrawal dates.\n",
    "#### The prices at which the commodity can be purchased/sold on those dates.\n",
    "#### The rate at which the gas can be injected/withdrawn.\n",
    "#### The maximum volume that can be stored.\n",
    "#### Storage costs.\n",
    "#### Write a function that takes these inputs and gives back the value of the contract. You can assume there is no transport delay and that interest rates are zero. Market holidays, weekends, and bank holidays need not be accounted for. Test your code by selecting a few sample inputs"
   ]
  },
  {
   "cell_type": "code",
   "execution_count": 9,
   "id": "4f6a635c-cd61-4c86-863b-e6e18fc5e375",
   "metadata": {},
   "outputs": [],
   "source": [
    "import pandas as pd\n",
    "import numpy as np"
   ]
  },
  {
   "cell_type": "code",
   "execution_count": 3,
   "id": "1712e739-8a22-4b6c-80f4-7b66d3d08644",
   "metadata": {},
   "outputs": [],
   "source": [
    "# Reading the dataset\n",
    "data = pd.read_csv('Nat_Gas.csv')"
   ]
  },
  {
   "cell_type": "code",
   "execution_count": 4,
   "id": "7b04f5f1-e47e-449f-a2dc-631bcb3a0409",
   "metadata": {},
   "outputs": [
    {
     "data": {
      "text/html": [
       "<div>\n",
       "<style scoped>\n",
       "    .dataframe tbody tr th:only-of-type {\n",
       "        vertical-align: middle;\n",
       "    }\n",
       "\n",
       "    .dataframe tbody tr th {\n",
       "        vertical-align: top;\n",
       "    }\n",
       "\n",
       "    .dataframe thead th {\n",
       "        text-align: right;\n",
       "    }\n",
       "</style>\n",
       "<table border=\"1\" class=\"dataframe\">\n",
       "  <thead>\n",
       "    <tr style=\"text-align: right;\">\n",
       "      <th></th>\n",
       "      <th>Dates</th>\n",
       "      <th>Prices</th>\n",
       "    </tr>\n",
       "  </thead>\n",
       "  <tbody>\n",
       "    <tr>\n",
       "      <th>0</th>\n",
       "      <td>10/31/20</td>\n",
       "      <td>10.1</td>\n",
       "    </tr>\n",
       "    <tr>\n",
       "      <th>1</th>\n",
       "      <td>11/30/20</td>\n",
       "      <td>10.3</td>\n",
       "    </tr>\n",
       "    <tr>\n",
       "      <th>2</th>\n",
       "      <td>12/31/20</td>\n",
       "      <td>11.0</td>\n",
       "    </tr>\n",
       "    <tr>\n",
       "      <th>3</th>\n",
       "      <td>1/31/21</td>\n",
       "      <td>10.9</td>\n",
       "    </tr>\n",
       "    <tr>\n",
       "      <th>4</th>\n",
       "      <td>2/28/21</td>\n",
       "      <td>10.9</td>\n",
       "    </tr>\n",
       "  </tbody>\n",
       "</table>\n",
       "</div>"
      ],
      "text/plain": [
       "      Dates  Prices\n",
       "0  10/31/20    10.1\n",
       "1  11/30/20    10.3\n",
       "2  12/31/20    11.0\n",
       "3   1/31/21    10.9\n",
       "4   2/28/21    10.9"
      ]
     },
     "execution_count": 4,
     "metadata": {},
     "output_type": "execute_result"
    }
   ],
   "source": [
    "data.head()"
   ]
  },
  {
   "cell_type": "code",
   "execution_count": 28,
   "id": "b16b7ce7-0309-45de-9373-3d3f731ed84f",
   "metadata": {},
   "outputs": [
    {
     "data": {
      "text/html": [
       "<div>\n",
       "<style scoped>\n",
       "    .dataframe tbody tr th:only-of-type {\n",
       "        vertical-align: middle;\n",
       "    }\n",
       "\n",
       "    .dataframe tbody tr th {\n",
       "        vertical-align: top;\n",
       "    }\n",
       "\n",
       "    .dataframe thead th {\n",
       "        text-align: right;\n",
       "    }\n",
       "</style>\n",
       "<table border=\"1\" class=\"dataframe\">\n",
       "  <thead>\n",
       "    <tr style=\"text-align: right;\">\n",
       "      <th></th>\n",
       "      <th>Dates</th>\n",
       "      <th>Prices</th>\n",
       "    </tr>\n",
       "  </thead>\n",
       "  <tbody>\n",
       "    <tr>\n",
       "      <th>43</th>\n",
       "      <td>5/31/24</td>\n",
       "      <td>11.4</td>\n",
       "    </tr>\n",
       "    <tr>\n",
       "      <th>44</th>\n",
       "      <td>6/30/24</td>\n",
       "      <td>11.5</td>\n",
       "    </tr>\n",
       "    <tr>\n",
       "      <th>45</th>\n",
       "      <td>7/31/24</td>\n",
       "      <td>11.6</td>\n",
       "    </tr>\n",
       "    <tr>\n",
       "      <th>46</th>\n",
       "      <td>8/31/24</td>\n",
       "      <td>11.5</td>\n",
       "    </tr>\n",
       "    <tr>\n",
       "      <th>47</th>\n",
       "      <td>9/30/24</td>\n",
       "      <td>11.8</td>\n",
       "    </tr>\n",
       "  </tbody>\n",
       "</table>\n",
       "</div>"
      ],
      "text/plain": [
       "      Dates  Prices\n",
       "43  5/31/24    11.4\n",
       "44  6/30/24    11.5\n",
       "45  7/31/24    11.6\n",
       "46  8/31/24    11.5\n",
       "47  9/30/24    11.8"
      ]
     },
     "execution_count": 28,
     "metadata": {},
     "output_type": "execute_result"
    }
   ],
   "source": [
    "data.tail()"
   ]
  },
  {
   "cell_type": "code",
   "execution_count": 15,
   "id": "8749b7ee-7519-4f9a-a447-ecfc0b6638a2",
   "metadata": {},
   "outputs": [],
   "source": [
    "import pandas as pd\n",
    "\n",
    "def price_storage_contract(\n",
    "    injection_dates: list[str],\n",
    "    withdrawal_dates: list[str],\n",
    "    daily_price: pd.Series,\n",
    "    inject_rate: float,\n",
    "    withdraw_rate: float,\n",
    "    max_volume: float,\n",
    "    storage_cost: float\n",
    ") -> float:\n",
    "    \"\"\"\n",
    "    Price a simple gas‐storage contract.\n",
    "\n",
    "    Parameters\n",
    "    ----------\n",
    "    injection_dates : list[str]\n",
    "        Dates (\"YYYY-MM-DD\") when gas is injected.\n",
    "    withdrawal_dates : list[str]\n",
    "        Dates (\"YYYY-MM-DD\") when gas is withdrawn.\n",
    "    daily_price : pd.Series\n",
    "        Series of daily gas prices, indexed by pd.DatetimeIndex.\n",
    "    inject_rate : float\n",
    "        Volume injected at each injection date.\n",
    "    withdraw_rate : float\n",
    "        Volume withdrawn at each withdrawal date.\n",
    "    max_volume : float\n",
    "        Maximum storage capacity.\n",
    "    storage_cost : float\n",
    "        Daily cost per unit volume stored.\n",
    "\n",
    "    Returns\n",
    "    -------\n",
    "    float\n",
    "        Net contract value (positive means profit).\n",
    "    \"\"\"\n",
    "\n",
    "    # 1. Build event list\n",
    "    events = []\n",
    "    for d in injection_dates:\n",
    "        events.append({\n",
    "            \"date\": pd.to_datetime(d),\n",
    "            \"dvol\":  inject_rate   # positive volume change\n",
    "        })\n",
    "    for d in withdrawal_dates:\n",
    "        events.append({\n",
    "            \"date\": pd.to_datetime(d),\n",
    "            \"dvol\": -withdraw_rate  # negative volume change\n",
    "        })\n",
    "\n",
    "    # 2. Sort by date\n",
    "    events.sort(key=lambda x: x[\"date\"])\n",
    "\n",
    "    # 3. Iterate events, track storage level, cash flows, storage cost\n",
    "    storage_level = 0.0\n",
    "    net_value = 0.0\n",
    "    prev_date = events[0][\"date\"]\n",
    "\n",
    "    for ev in events:\n",
    "        curr_date = ev[\"date\"]\n",
    "        # 3.1 Storage cost accrual since last event\n",
    "        days = (curr_date - prev_date).days\n",
    "        if days > 0:\n",
    "            net_value -= storage_level * storage_cost * days\n",
    "\n",
    "        # 3.2 Volume change and feasibility checks\n",
    "        new_level = storage_level + ev[\"dvol\"]\n",
    "        if new_level < 0:\n",
    "            raise ValueError(f\"Attempt to withdraw more than stored on {curr_date.date()}\")\n",
    "        if new_level > max_volume:\n",
    "            raise ValueError(f\"Storage capacity exceeded on {curr_date.date()}\")\n",
    "        \n",
    "        # 3.3 Cash flow of injection/withdrawal\n",
    "        try:\n",
    "            price = float(daily_price.loc[curr_date])\n",
    "        except KeyError:\n",
    "            raise KeyError(f\"No price available for {curr_date.date()}\")\n",
    "        \n",
    "        # injection (dvol>0): cost → negative; withdrawal (dvol<0): revenue → positive\n",
    "        net_value -= price * ev[\"dvol\"]\n",
    "        \n",
    "        # Update state\n",
    "        storage_level = new_level\n",
    "        prev_date = curr_date\n",
    "\n",
    "    # 4. Optional: Mark‐to‐market any remaining inventory at last known price\n",
    "    if storage_level > 0:\n",
    "        last_price = float(daily_price.loc[prev_date])\n",
    "        net_value += storage_level * last_price\n",
    "\n",
    "    return net_value"
   ]
  },
  {
   "cell_type": "code",
   "execution_count": 29,
   "id": "6163c3c5-d122-4a27-b2a2-5ee0d070f99a",
   "metadata": {},
   "outputs": [
    {
     "name": "stdout",
     "output_type": "stream",
     "text": [
      "Net contract value: -3143.15\n"
     ]
    }
   ],
   "source": [
    "if __name__ == \"__main__\":\n",
    "    # 1) Build a toy price series (daily price = 2.0 + sin curve)\n",
    "    idx = pd.date_range(\"2020-10-31\", \"2024-09-30\", freq=\"D\")\n",
    "    price_series = pd.Series(2.0 + 0.5 * np.sin(2*np.pi*idx.dayofyear/365), index=idx)\n",
    "\n",
    "    # 2) Define a simple inject‐then‐withdraw schedule\n",
    "    injections  = [\"2022-03-01\", \"2022-04-01\", \"2023-05-01\"]\n",
    "    withdrawals = [\"2022-10-01\", \"2022-11-01\", \"2023-12-01\"]\n",
    "\n",
    "    value = price_storage_contract(\n",
    "        injection_dates  = injections,\n",
    "        withdrawal_dates = withdrawals,\n",
    "        daily_price      = price_series,\n",
    "        inject_rate      = 100.0,\n",
    "        withdraw_rate    = 100.0,\n",
    "        max_volume       = 500.0,\n",
    "        storage_cost     = 0.045\n",
    "    )\n",
    "\n",
    "    print(f\"Net contract value: {value:.2f}\")\n"
   ]
  },
  {
   "cell_type": "code",
   "execution_count": 34,
   "id": "31c2e204-cf55-43fe-8b30-fc8c3710e94a",
   "metadata": {},
   "outputs": [
    {
     "name": "stdout",
     "output_type": "stream",
     "text": [
      "Net contract value: -599.19\n"
     ]
    }
   ],
   "source": [
    "if __name__ == \"__main__\":\n",
    "    # 1) Build a toy price series (daily price = 2.0 + sin curve)\n",
    "    idx = pd.date_range(\"2022-01-01\", \"2023-12-31\", freq=\"D\")\n",
    "    price_series = pd.Series(2.0 + 0.5 * np.sin(2*np.pi*idx.dayofyear/365), index=idx)\n",
    "\n",
    "    # 2) Define a simple inject‐then‐withdraw schedule\n",
    "    injections  = [\"2022-03-01\", \"2022-03-31\", \"2023-05-01\"]\n",
    "    withdrawals = [\"2022-10-01\", \"2023-12-01\", \"2023-12-01\"]\n",
    "\n",
    "    value = price_storage_contract(\n",
    "        injection_dates  = injections,\n",
    "        withdrawal_dates = withdrawals,\n",
    "        daily_price      = price_series,\n",
    "        inject_rate      = 100.0,\n",
    "        withdraw_rate    = 100.0,\n",
    "        max_volume       = 500.0,\n",
    "        storage_cost     = 0.0035\n",
    "    )\n",
    "\n",
    "    print(f\"Net contract value: {value:.2f}\")\n"
   ]
  },
  {
   "cell_type": "code",
   "execution_count": null,
   "id": "dddd4634-9e58-48a3-a2ea-f270747645b4",
   "metadata": {},
   "outputs": [],
   "source": []
  }
 ],
 "metadata": {
  "kernelspec": {
   "display_name": "Python 3 (ipykernel)",
   "language": "python",
   "name": "python3"
  },
  "language_info": {
   "codemirror_mode": {
    "name": "ipython",
    "version": 3
   },
   "file_extension": ".py",
   "mimetype": "text/x-python",
   "name": "python",
   "nbconvert_exporter": "python",
   "pygments_lexer": "ipython3",
   "version": "3.12.9"
  }
 },
 "nbformat": 4,
 "nbformat_minor": 5
}
